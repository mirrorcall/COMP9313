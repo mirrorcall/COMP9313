{
 "cells": [
  {
   "cell_type": "code",
   "execution_count": 3,
   "metadata": {},
   "outputs": [],
   "source": [
    "from pyspark import SparkConf, SparkContext"
   ]
  },
  {
   "cell_type": "code",
   "execution_count": 4,
   "metadata": {},
   "outputs": [],
   "source": [
    "conf = SparkConf().setMaster(\"local\").setAppName(\"hellow_9313\")\n",
    "sc = SparkContext(conf = conf)"
   ]
  },
  {
   "cell_type": "code",
   "execution_count": 22,
   "metadata": {},
   "outputs": [
    {
     "data": {
      "text/plain": [
       "[('hello', 1),\n",
       " ('world', 1),\n",
       " ('hello', 1),\n",
       " ('world', 1),\n",
       " ('word', 1),\n",
       " ('count', 1),\n",
       " ('hello', 1)]"
      ]
     },
     "execution_count": 22,
     "metadata": {},
     "output_type": "execute_result"
    }
   ],
   "source": [
    "# simple map phase\n",
    "data = sc.parallelize([\"hello\", \"world\", \"hello\", \"world\", \"word\", \"count\", \"hello\"])\n",
    "rdd = data.map(lambda w: (w, 1))\n",
    "rdd.collect()"
   ]
  },
  {
   "cell_type": "markdown",
   "metadata": {},
   "source": [
    "## CombineByKey"
   ]
  },
  {
   "cell_type": "markdown",
   "metadata": {},
   "source": [
    "### Example 1\n",
    "\n",
    "Key and value are corresponding to **word** and **count**. Write a *combineByKey* function that computes the total number of each word."
   ]
  },
  {
   "cell_type": "code",
   "execution_count": null,
   "metadata": {},
   "outputs": [],
   "source": [
    "# ans"
   ]
  },
  {
   "cell_type": "code",
   "execution_count": 46,
   "metadata": {},
   "outputs": [
    {
     "data": {
      "text/plain": [
       "[('hello', 3), ('world', 2), ('word', 1), ('count', 1)]"
      ]
     },
     "execution_count": 46,
     "metadata": {},
     "output_type": "execute_result"
    }
   ],
   "source": [
    "# sol\n",
    "def combiner(v):\n",
    "    return v\n",
    "def mergeValue(c, v):\n",
    "    return c + v\n",
    "def mergeCombiner(c1, c2):\n",
    "    return c1.extend(c2)\n",
    "combine = rdd.combineByKey(combiner, mergeValue, mergeCombiner)\n",
    "combine.collect()"
   ]
  },
  {
   "cell_type": "markdown",
   "metadata": {},
   "source": [
    "### Example 2\n",
    "\n",
    "Key and value are corresponding to **word** and **score**. Write a *combineByKey* function that computes the maximum score for each word."
   ]
  },
  {
   "cell_type": "code",
   "execution_count": null,
   "metadata": {},
   "outputs": [],
   "source": [
    "# ans"
   ]
  },
  {
   "cell_type": "code",
   "execution_count": 54,
   "metadata": {},
   "outputs": [
    {
     "data": {
      "text/plain": [
       "[('A', 10), ('B', 2), ('C', 1)]"
      ]
     },
     "execution_count": 54,
     "metadata": {},
     "output_type": "execute_result"
    }
   ],
   "source": [
    "# sol\n",
    "data1 = sc.parallelize([(\"A\",1),(\"A\",10),(\"B\",1),(\"B\",2),(\"A\",4),(\"A\",6),(\"C\",1),(\"C\",1),(\"C\",1),(\"C\",1),(\"C\",1),(\"C\",1)] )\n",
    "data1.combineByKey(lambda v: v, lambda c, v: max(c, v), lambda c1, c2: max(c1, c2)).collect()"
   ]
  },
  {
   "cell_type": "markdown",
   "metadata": {},
   "source": [
    "### Example 3\n",
    "\n",
    "Key and value are corresponding to **student ID** and **score**. Write a *combineByKey* function that computes the **sum** and **count**."
   ]
  },
  {
   "cell_type": "code",
   "execution_count": null,
   "metadata": {},
   "outputs": [],
   "source": [
    "# ans"
   ]
  },
  {
   "cell_type": "code",
   "execution_count": 64,
   "metadata": {},
   "outputs": [
    {
     "data": {
      "text/plain": [
       "[('1', (195, 3)), ('2', (30, 2))]"
      ]
     },
     "execution_count": 64,
     "metadata": {},
     "output_type": "execute_result"
    }
   ],
   "source": [
    "# sol\n",
    "data2 = sc.parallelize([(\"1\", 80), (\"1\", 50), (\"1\", 65), (\"2\", 10), (\"2\", 20)])\n",
    "data2.combineByKey(lambda v: (v, 1), lambda c, v: (c[0]+v, c[1]+1), lambda c1, c2: (c1[0]+c2[0], c1[1]+c2[1])).collect()"
   ]
  },
  {
   "cell_type": "markdown",
   "metadata": {},
   "source": [
    "---\n",
    "## Merge"
   ]
  },
  {
   "cell_type": "markdown",
   "metadata": {},
   "source": [
    "### Union"
   ]
  },
  {
   "cell_type": "code",
   "execution_count": 9,
   "metadata": {},
   "outputs": [
    {
     "data": {
      "text/plain": [
       "[('A1', 1), ('A2', 2), ('A1', 1), ('A2', 2)]"
      ]
     },
     "execution_count": 9,
     "metadata": {},
     "output_type": "execute_result"
    }
   ],
   "source": [
    "a1 = sc.parallelize([(\"A1\", 1), (\"A2\", 2)])\n",
    "b1 = sc.parallelize([(\"A1\", 1), (\"A2\", 2)])\n",
    "a1.union(b1).collect()"
   ]
  },
  {
   "cell_type": "markdown",
   "metadata": {},
   "source": [
    "### Zip"
   ]
  },
  {
   "cell_type": "code",
   "execution_count": 10,
   "metadata": {},
   "outputs": [
    {
     "data": {
      "text/plain": [
       "[(('A1', 1), ('B1', 1)), (('A2', 2), ('B2', 2))]"
      ]
     },
     "execution_count": 10,
     "metadata": {},
     "output_type": "execute_result"
    }
   ],
   "source": [
    "a2 = sc.parallelize([(\"A1\", 1), (\"A2\", 2)])\n",
    "b2 = sc.parallelize([(\"B1\", 1), (\"B2\", 2)])\n",
    "a2.zip(b2).collect()"
   ]
  },
  {
   "cell_type": "markdown",
   "metadata": {},
   "source": [
    "### Join"
   ]
  },
  {
   "cell_type": "code",
   "execution_count": 12,
   "metadata": {},
   "outputs": [
    {
     "data": {
      "text/plain": [
       "[('B', (2, 3))]"
      ]
     },
     "execution_count": 12,
     "metadata": {},
     "output_type": "execute_result"
    }
   ],
   "source": [
    "a3 = sc.parallelize([(\"A\", 1), (\"B\", 2)])\n",
    "b3 = sc.parallelize([(\"B\", 3), (\"C\", 4)])\n",
    "a3.join(b3).collect()"
   ]
  },
  {
   "cell_type": "code",
   "execution_count": 23,
   "metadata": {},
   "outputs": [
    {
     "name": "stdout",
     "output_type": "stream",
     "text": [
      "case 1: [('A', (1, 3)), ('B', (2, 4))]\n",
      "case 2: [('A', (1, None)), ('B', (2, 4))]\n",
      "case 3: [('A', (1, 3))]\n"
     ]
    }
   ],
   "source": [
    "# a.leftOuterJoin(b)\n",
    "# case 1: both in a and b\n",
    "a31 = sc.parallelize([(\"A\", 1), (\"B\", 2)])\n",
    "b31 = sc.parallelize([(\"A\", 3), (\"B\", 4)])\n",
    "print(\"case 1:\", a31.leftOuterJoin(b31).collect())\n",
    "# case 2: in a but not b\n",
    "a32 = sc.parallelize([(\"A\", 1), (\"B\", 2)])\n",
    "b32 = sc.parallelize([(\"B\", 4)])\n",
    "print(\"case 2:\", a32.leftOuterJoin(b32).collect())\n",
    "# case 3: in b but not a\n",
    "a33 = sc.parallelize([(\"A\", 1)])\n",
    "b33 = sc.parallelize([(\"A\", 3), (\"B\", 4)])\n",
    "print(\"case 3:\", a33.leftOuterJoin(b33).collect())"
   ]
  },
  {
   "cell_type": "code",
   "execution_count": 27,
   "metadata": {},
   "outputs": [
    {
     "name": "stdout",
     "output_type": "stream",
     "text": [
      "full outer join: [('C', (None, 4)), ('A', (1, None)), ('B', (2, 3))]\n",
      "left outer joni: [('A', (1, None)), ('B', (2, 3))]\n",
      "right outer join: [('C', (None, 4)), ('B', (2, 3))]\n"
     ]
    }
   ],
   "source": [
    "print(\"full outer join:\", a3.fullOuterJoin(b3).collect())\n",
    "print(\"left outer joni:\", a3.leftOuterJoin(b3).collect())\n",
    "print(\"right outer join:\", a3.rightOuterJoin(b3).collect())"
   ]
  },
  {
   "cell_type": "markdown",
   "metadata": {},
   "source": [
    "---\n",
    "## Co-occurance Matrix"
   ]
  },
  {
   "cell_type": "code",
   "execution_count": 32,
   "metadata": {},
   "outputs": [
    {
     "data": {
      "text/plain": [
       "['boy']"
      ]
     },
     "execution_count": 32,
     "metadata": {},
     "output_type": "execute_result"
    }
   ],
   "source": [
    "document = [\"A boy can do anything for a girl\"]\n",
    "rdd = sc.parallelize(document)\n",
    "\n",
    "def stripe(x):\n",
    "    \"\"\"\n",
    "    x: input sentences\n",
    "    return: output neighbour with distance of 3\n",
    "    \"\"\"\n",
    "    return x.split()[1]\n",
    "rdd.map(stripe).collect()"
   ]
  },
  {
   "cell_type": "code",
   "execution_count": 69,
   "metadata": {},
   "outputs": [
    {
     "data": {
      "text/plain": [
       "[('a', [1, 2]),\n",
       " ('boy', [1, 1]),\n",
       " ('can', [1, 1]),\n",
       " ('do', [1, 1]),\n",
       " ('anything', [1, 1]),\n",
       " ('girl', [1, 1]),\n",
       " ('the', [2, 2]),\n",
       " ('car', [2, 1]),\n",
       " ('turned', [2, 1]),\n",
       " ('corner', [2, 1]),\n",
       " ('she', [3, 1]),\n",
       " ('opened', [3, 1]),\n",
       " ('the', [3, 1]),\n",
       " ('door', [3, 1])]"
      ]
     },
     "execution_count": 69,
     "metadata": {},
     "output_type": "execute_result"
    }
   ],
   "source": [
    "rdd = sc.parallelize([(1, \"A boy can do anything a girl\"),\n",
    "                      (2, \"The car turned the corner\"),\n",
    "                      (3, \"She opened the door\")])\n",
    "def parse(x):\n",
    "    seen = {}\n",
    "    tf_list = []\n",
    "    # strip period after the sentence if possible\n",
    "    for term in x[1].lower().split():  # all terms are in lowercase\n",
    "        seen[term] = seen.get(term, 0) + 1 if term in seen else 1\n",
    "    return [(t, [x[0], seen[t]]) for t in seen]\n",
    "rdd.flatMap(parse).collect()"
   ]
  },
  {
   "cell_type": "code",
   "execution_count": null,
   "metadata": {},
   "outputs": [],
   "source": []
  }
 ],
 "metadata": {
  "kernelspec": {
   "display_name": "9313",
   "language": "python",
   "name": "9313"
  },
  "language_info": {
   "codemirror_mode": {
    "name": "ipython",
    "version": 3
   },
   "file_extension": ".py",
   "mimetype": "text/x-python",
   "name": "python",
   "nbconvert_exporter": "python",
   "pygments_lexer": "ipython3",
   "version": "3.6.5"
  }
 },
 "nbformat": 4,
 "nbformat_minor": 4
}
